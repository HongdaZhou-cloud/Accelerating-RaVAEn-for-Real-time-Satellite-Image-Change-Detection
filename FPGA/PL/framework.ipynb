{
 "cells": [
  {
   "cell_type": "markdown",
   "metadata": {},
   "source": [
    "## Model Characters Setting"
   ]
  },
  {
   "cell_type": "code",
   "execution_count": 1,
   "metadata": {},
   "outputs": [],
   "source": [
    "# number of input image bands (in_band)\n",
    "in_band = 10\n",
    "\n",
    "# tile size\n",
    "SIZE = 32\n",
    "\n",
    "# characters for CONV layer1\n",
    "OUT1 = 16\n",
    "IN1= in_band\n",
    "S1 = 16\n",
    "\n",
    "# characters for CONV layer2\n",
    "OUT2 = 32\n",
    "IN2 = 16\n",
    "S2 = 8\n",
    "\n",
    "# characters for CONV layer3\n",
    "OUT3 = 64\n",
    "IN3 = 32\n",
    "S3 = 4"
   ]
  },
  {
   "cell_type": "markdown",
   "metadata": {},
   "source": [
    "# FPGA Board Characters Setting "
   ]
  },
  {
   "cell_type": "code",
   "execution_count": 2,
   "metadata": {},
   "outputs": [],
   "source": [
    "total_dsp = 1248*0.8  # KV260\n",
    "# total_dsp = 400*0.8  # zynq7030\n",
    "# total_dsp = 1728*0.8 # xczu7ev"
   ]
  },
  {
   "cell_type": "markdown",
   "metadata": {},
   "source": [
    "# Model Parameters Setting"
   ]
  },
  {
   "cell_type": "code",
   "execution_count": 146,
   "metadata": {},
   "outputs": [],
   "source": [
    "# Model parameters of Zynq UltraScale+\n",
    "# Tile Loading\n",
    "L_fresh = 18  # L: latency\n",
    "n_data = 2\n",
    "n_bw = 128\n",
    "\n",
    "d1_load = 6  # d: DSP consumption\n",
    "l1_load = 930  # l: LUT consumption\n",
    "\n",
    "# Normalization\n",
    "L2_norm = 5  # (l_norm - 1)\n",
    "L2_enex = 2\n",
    "\n",
    "d2_norm = 2\n",
    "l2_norm = 360\n",
    "\n",
    "# Conv_arch1\n",
    "Lc1_conp = 12  # (l_conv&proc - 1)\n",
    "Lc1_enex = 3\n",
    "Lc1_conv = 6  # (l_conv - 1)\n",
    "Lc1_pro = 10\n",
    "\n",
    "dc1_pe = 18\n",
    "lc1_pe = 890\n",
    "dc1_proc = 4\n",
    "lc1_proc = 380\n",
    "\n",
    "# Conv_arch2\n",
    "Lc2_conv = 6  # (l_conv - 1)\n",
    "Lc2_enex1 = 4\n",
    "Lc2_proc = 7  # (l_proc - 1)\n",
    "Lc2_enex2 = 3\n",
    "\n",
    "dc2_path1 = 18\n",
    "lc2_path1 = 860\n",
    "dc2_path2 = 4\n",
    "lc2_path2 = 490\n",
    "\n",
    "# FC_Change\n",
    "L6_read = 3  # (l_read - 1)\n",
    "L6_addi = 6\n",
    "L6_mac = 5  # (l_mac - 1)\n",
    "L6_bias = 19\n",
    "L6_dist = 217\n",
    "\n",
    "d6_mac = 2\n",
    "l6_mac = 120\n",
    "d6_other = 12\n",
    "l6_other = 21900\n",
    "\n",
    "## Model parameters of Zynq 7000\n",
    "# L_fresh = 18\n",
    "# n_data = 2\n",
    "# n_bw = 128\n",
    "# d1_load = 6\n",
    "# l1_load = 1000\n",
    "\n",
    "# L2_norm = 10\n",
    "# L2_enex = 2\n",
    "# d2_norm = 2\n",
    "# l2_norm = 900\n",
    "\n",
    "# Lc1_conp = 18\n",
    "# Lc1_enex = 3\n",
    "# Lc1_conv = 10\n",
    "# Lc1_pro = 12\n",
    "# dc1_pe = 18\n",
    "# lc1_pe = 1750\n",
    "# dc1_proc = 4\n",
    "# lc1_proc = 730\n",
    "\n",
    "# Lc2_conv = 11\n",
    "# Lc2_enex1 = 3\n",
    "# Lc2_proc = 12\n",
    "# Lc2_enex2 = 3\n",
    "# dc2_path1 = 18\n",
    "# lc2_path1 = 1700\n",
    "# dc2_path2 = 4\n",
    "# lc2_path2 = 600\n",
    "\n",
    "# L6_read = 3\n",
    "# L6_addi = 6\n",
    "# L6_mac = 10\n",
    "# L6_bias = 23\n",
    "# L6_dist = 239\n",
    "# d6_mac = 2\n",
    "# l6_mac = 140\n",
    "# d6_other = 12\n",
    "# l6_other = 21600"
   ]
  },
  {
   "cell_type": "markdown",
   "metadata": {},
   "source": [
    "# Performance model for CONV Layers"
   ]
  },
  {
   "cell_type": "code",
   "execution_count": 147,
   "metadata": {},
   "outputs": [],
   "source": [
    "import math\n",
    "import matplotlib.pyplot as plt\n",
    "import numpy as np\n",
    "\n",
    "def dsp_latency_factors(OUT, IN, S):\n",
    "    n1_all = []\n",
    "    n1_all = [i for i in range(1, IN + 1) if IN % i == 0]\n",
    "    for i in range(math.ceil(math.log2(IN))):\n",
    "        n1_all.append(2**i)\n",
    "        \n",
    "    n2_all = []\n",
    "    for n2_w in range(1,S):\n",
    "        n2_all.append(n2_w)\n",
    "    for n2_h in range(1,S+1):\n",
    "        n2_all.append(n2_h*S)\n",
    "\n",
    "    dsp_factor_2 = {}\n",
    "    lut_factor_2 = {}\n",
    "\n",
    "    for m_i2 in set(n1_all):\n",
    "        for N1 in n2_all:\n",
    "            for N2 in n2_all:\n",
    "                M_o = 1\n",
    "                M_i = m_i2\n",
    "                if N1 <= S:\n",
    "                    if S%N1 == 0:\n",
    "                        loop1 = math.ceil(IN/M_i) * (math.ceil(S * S/N1) + Lc2_conv + Lc2_enex1)\n",
    "                    else:\n",
    "                        loop1 = math.ceil(IN/M_i) * S * (math.ceil(S/N1) + Lc2_conv + Lc2_enex1)\n",
    "                else:\n",
    "                    loop1 = math.ceil(IN/M_i) * (math.ceil(S * S/N1) + Lc2_conv + Lc2_enex1)\n",
    "\n",
    "                if N2 <= S:\n",
    "                    if S%N2 == 0:\n",
    "                        loop2 = math.ceil(S * S/N2) + Lc2_proc + Lc2_enex2\n",
    "                    else:\n",
    "                        loop2 = S * (math.ceil(S/N2) + Lc2_proc + Lc2_enex2)\n",
    "                else:\n",
    "                    loop2 = math.ceil(S * S/N2) + Lc2_proc + Lc2_enex2\n",
    "\n",
    "                lat_2 = math.ceil(OUT/M_o)*(loop1 + loop2)\n",
    "                \n",
    "                DSP_2 = M_o*(dc2_path1 * M_i*N1 + dc2_path2*N2) \n",
    "                LUT_2 = M_o*(lc2_path1 * M_i*N1 + lc2_path2*N2) \n",
    "\n",
    "                if DSP_2 in dsp_factor_2.keys():\n",
    "                    if lat_2 < dsp_factor_2[DSP_2][0]:\n",
    "                        dsp_factor_2[DSP_2] = (lat_2, \"arch2\", M_i, N1, N2)\n",
    "                else:\n",
    "                    dsp_factor_2[DSP_2] = (lat_2, \"arch2\", M_i, N1, N2)\n",
    "\n",
    "                if LUT_2 in lut_factor_2.keys():\n",
    "                    if lat_2 < lut_factor_2[LUT_2][0]:\n",
    "                        lut_factor_2[LUT_2] = (lat_2, \"arch2\", M_i, N1, N2)\n",
    "                else:\n",
    "                    lut_factor_2[LUT_2] = (lat_2, \"arch2\", M_i, N1, N2)\n",
    "\n",
    "    for N in n2_all:\n",
    "        for m_i in set(n1_all):\n",
    "            M = 1\n",
    "            if (N <= S) and (S%N != 0):\n",
    "                if m_i == IN:\n",
    "                    lat_2 = math.ceil(OUT/M) * S * (math.ceil(S/N) + Lc1_conp + Lc1_enex)\n",
    "                else:\n",
    "                    lat_2 = math.ceil(OUT/M) * (math.ceil(S*S/N)) * (math.ceil(IN/m_i) + Lc1_conv + Lc1_pro)\n",
    "            else:\n",
    "                if m_i == IN:\n",
    "                    lat_2 = math.ceil(OUT/M) * (math.ceil(S*S/N) + Lc1_conp + Lc1_enex)\n",
    "                else:\n",
    "                    lat_2 = math.ceil(OUT/M) * (math.ceil(S*S/N)) * (math.ceil(IN/m_i) + Lc1_conv + Lc1_pro)\n",
    "                    \n",
    "            DSP_2 = M*N*(dc1_pe * m_i + dc1_proc) \n",
    "            LUT_2 = M*N*(lc1_pe * m_i + lc1_proc) \n",
    "\n",
    "            if DSP_2 in dsp_factor_2.keys():\n",
    "                if lat_2 < dsp_factor_2[DSP_2][0]:\n",
    "                    dsp_factor_2[DSP_2] = (lat_2, \"arch1\", m_i, N)\n",
    "            else:\n",
    "                dsp_factor_2[DSP_2] = (lat_2, \"arch1\", m_i, N)\n",
    "\n",
    "            if LUT_2 in lut_factor_2.keys():\n",
    "                if lat_2 < lut_factor_2[LUT_2][0]:\n",
    "                    lut_factor_2[LUT_2] = (lat_2, \"arch1\", m_i, N)\n",
    "            else:\n",
    "                lut_factor_2[LUT_2] = (lat_2, \"arch1\", m_i, N)\n",
    "\n",
    "    # Stage filters to only get effective choices for CONV Layers\n",
    "\n",
    "    index = list(dsp_factor_2.keys())\n",
    "    index.sort()\n",
    "    values = []\n",
    "    for e in index:\n",
    "        values.append(dsp_factor_2[e][0])\n",
    "    result1 = [(index[i], values[i]) for i in range(len(values)) if all(values[i] <= values[j] for j in range(i))]\n",
    "    x1, y1 = zip(*result1)\n",
    "\n",
    "    index = list(lut_factor_2.keys())\n",
    "    index.sort()\n",
    "    values = []\n",
    "    for e in index:\n",
    "        values.append(lut_factor_2[e][0])\n",
    "    result2 = [(index[i], values[i]) for i in range(len(values)) if all(values[i] <= values[j] for j in range(i))]\n",
    "    x2, y2 = zip(*result2)\n",
    "\n",
    "    final_dsp_factor = {}\n",
    "\n",
    "    for e in x1:\n",
    "        for n in x2:\n",
    "            if dsp_factor_2[e] == lut_factor_2[n]:\n",
    "                final_dsp_factor[e] = dsp_factor_2[e]\n",
    "\n",
    "    index = list(final_dsp_factor.keys())\n",
    "    index.sort()\n",
    "    values = []\n",
    "    for e in index:\n",
    "        values.append(final_dsp_factor[e][0])\n",
    "\n",
    "    fig, ax1 = plt.subplots(figsize=(5, 3), layout='constrained')\n",
    "    # Create the plot\n",
    "    ax1.plot(index, values, color='r', linestyle='--', marker = '*')\n",
    "\n",
    "    return final_dsp_factor"
   ]
  },
  {
   "cell_type": "code",
   "execution_count": 148,
   "metadata": {},
   "outputs": [
    {
     "data": {
      "image/png": "[encoded data removed]",
      "text/plain": [
       "<Figure size 500x300 with 1 Axes>"
      ]
     },
     "metadata": {},
     "output_type": "display_data"
    },
    {
     "data": {
      "image/png": "[encoded data removed]",
      "text/plain": [
       "<Figure size 500x300 with 1 Axes>"
      ]
     },
     "metadata": {},
     "output_type": "display_data"
    },
    {
     "data": {
      "image/png": "[encoded data removed]",
      "text/plain": [
       "<Figure size 500x300 with 1 Axes>"
      ]
     },
     "metadata": {},
     "output_type": "display_data"
    }
   ],
   "source": [
    "# Effecitve designs of three CONV layers (x-axis: DSP consumption; y-axis: stage latency)\n",
    "\n",
    "dsp_latency1 = dsp_latency_factors(OUT1, IN1, S1) # CONV1\n",
    "dsp_latency2 = dsp_latency_factors(OUT2, IN2, S2) # CONV2\n",
    "dsp_latency3 = dsp_latency_factors(OUT3, IN3, S3) # CONV3"
   ]
  },
  {
   "cell_type": "markdown",
   "metadata": {},
   "source": [
    "# Performance model for the maximum throughout"
   ]
  },
  {
   "cell_type": "code",
   "execution_count": 149,
   "metadata": {},
   "outputs": [],
   "source": [
    "# choose 5 shortest intervals\n",
    "top_5_smallest_numbers = []\n",
    "# Function to insert a new number into the top 5 smallest numbers list if it's unique and among the smallest\n",
    "def update_top_5(number):\n",
    "    global top_5_smallest_numbers\n",
    "\n",
    "    if number not in top_5_smallest_numbers:\n",
    "        \n",
    "        if len(top_5_smallest_numbers) < 5:\n",
    "            top_5_smallest_numbers.append(number)\n",
    "            top_5_smallest_numbers.sort() \n",
    "\n",
    "        else:\n",
    "            if number < top_5_smallest_numbers[-1]:\n",
    "                top_5_smallest_numbers[-1] = number\n",
    "                top_5_smallest_numbers.sort() "
   ]
  },
  {
   "cell_type": "markdown",
   "metadata": {},
   "source": [
    "# Performance model for the target interval"
   ]
  },
  {
   "cell_type": "code",
   "execution_count": 150,
   "metadata": {},
   "outputs": [],
   "source": [
    "## set target intervals for different satellites\n",
    "# target_interval = 13250#9938 # 10 bands for Sentinel-2 satellite\n",
    "# # target_interval = 31750 # 4 bands for SPOT satellite"
   ]
  },
  {
   "cell_type": "code",
   "execution_count": 151,
   "metadata": {},
   "outputs": [],
   "source": [
    "# # choose 5 longest intervals which are shorter than target interval\n",
    "\n",
    "# top_5_smallest_numbers = []\n",
    "# # Function to insert a new number into the top 5 smallest numbers list if it's unique and among the smallest\n",
    "# def update_top_5(number):\n",
    "#     global top_5_smallest_numbers\n",
    "\n",
    "#     if number <= target_interval:\n",
    "\n",
    "#         if number not in top_5_smallest_numbers:\n",
    "            \n",
    "#             if len(top_5_smallest_numbers) < 5:\n",
    "#                 top_5_smallest_numbers.append(number)\n",
    "#                 top_5_smallest_numbers.sort(reverse=True) \n",
    "\n",
    "#             else:\n",
    "#                 if number > top_5_smallest_numbers[-1]:\n",
    "#                     top_5_smallest_numbers[-1] = number\n",
    "#                     top_5_smallest_numbers.sort(reverse=True) "
   ]
  },
  {
   "cell_type": "markdown",
   "metadata": {},
   "source": [
    "## Find the 5 subsets with 5 intervals (including all stages)"
   ]
  },
  {
   "cell_type": "code",
   "execution_count": 152,
   "metadata": {},
   "outputs": [
    {
     "name": "stdout",
     "output_type": "stream",
     "text": [
      "The 5 smallest numbers are: [5312, 5568, 5751, 6080, 6144]\n"
     ]
    }
   ],
   "source": [
    "latency = float('inf')\n",
    "# Stage 1 latency\n",
    "latency1 = in_band*SIZE/n_data*L_fresh + in_band*SIZE*(math.ceil(512/n_bw))\n",
    "iter1 = int(SIZE/2+1)\n",
    "iter2 = int(math.log2(OUT3*S3*S3)+1)\n",
    "for s2 in range(0,iter1):\n",
    "    for s3 in dsp_latency1:\n",
    "        for s4 in dsp_latency2:\n",
    "            for s5 in dsp_latency3:\n",
    "                for s6 in range(0,iter2):\n",
    "                    if s2==0:\n",
    "                        factor2 = 1\n",
    "                    else:\n",
    "                        factor2 = s2*2\n",
    "                    factor6 = 2**s6\n",
    "                    dsp = d1_load + d2_norm*factor2 + s3 + s4 + s5 + d6_mac*factor6+d6_other\n",
    "                    if dsp < total_dsp:\n",
    "                        # Stage 2 latency\n",
    "                        latency2 = in_band*SIZE*math.ceil(SIZE/factor2)+in_band*(L2_norm+L2_enex)\n",
    "                        # Stage 3 latency\n",
    "                        latency6 = 3 * ((129+L6_read)+L6_addi) + 128 * (math.ceil(1024/factor6) + L6_mac + L6_bias) + L6_dist\n",
    "\n",
    "                        # design interval is the maximum stage latency\n",
    "                        interval = max(latency1, latency2, dsp_latency1[s3][0], dsp_latency2[s4][0], dsp_latency3[s5][0], latency6)\n",
    "                        update_top_5(interval)\n",
    "\n",
    "print(\"The 5 smallest numbers are:\", top_5_smallest_numbers)"
   ]
  },
  {
   "cell_type": "code",
   "execution_count": 153,
   "metadata": {},
   "outputs": [],
   "source": [
    "dsp_factor = {}\n",
    "for e in top_5_smallest_numbers:\n",
    "    dsp_factor[e] = {}\n",
    "    \n",
    "for s2 in range(0,iter1):\n",
    "    for s3 in dsp_latency1:\n",
    "        for s4 in dsp_latency2:\n",
    "            for s5 in dsp_latency3:\n",
    "                for s6 in range(0,iter2):\n",
    "                    if s2==0:\n",
    "                        factor2 = 1\n",
    "                    else:\n",
    "                        factor2 = s2*2\n",
    "                    factor6 = 2**s6\n",
    "\n",
    "                    latency2 = in_band*32*math.ceil(32/factor2)+in_band*(L2_norm+L2_enex)\n",
    "                    latency6 = 3 * ((129+L6_read)+L6_addi) + 128 * (math.ceil(1024/factor6) + L6_mac + L6_bias) + L6_dist\n",
    "\n",
    "                    interval = max(latency1, latency2, dsp_latency1[s3][0], dsp_latency2[s4][0], dsp_latency3[s5][0], latency6)\n",
    "\n",
    "                    dsp = d1_load + d2_norm*factor2 + s3 + s4 + s5 + d6_mac*factor6+d6_other\n",
    "\n",
    "                    if (interval in top_5_smallest_numbers) and (dsp < total_dsp):\n",
    "                        factors = (factor2, s3, s4, s5, factor6)\n",
    "                        if dsp in dsp_factor[interval].keys():\n",
    "                            dsp_factor[interval][dsp].append([(d2_norm*factor2, (latency2, factor2)), (s3, dsp_latency1[s3]), (s4, dsp_latency2[s4]), (s5, dsp_latency3[s5]), (d6_mac*factor6+d6_other, (latency6, factor6))])\n",
    "                        else:\n",
    "                            dsp_factor[interval][dsp] = [[(d2_norm*factor2, (latency2, factor2)), (s3, dsp_latency1[s3]), (s4, dsp_latency2[s4]), (s5, dsp_latency3[s5]), (d6_mac*factor6+d6_other, (latency6, factor6))]]           "
   ]
  },
  {
   "cell_type": "code",
   "execution_count": 154,
   "metadata": {},
   "outputs": [],
   "source": [
    "all_dsp = []\n",
    "all_lut = []\n",
    "for e in dsp_factor:\n",
    "    for p in dsp_factor[e]:\n",
    "        for n in dsp_factor[e][p]:\n",
    "            \n",
    "            lut = l1_load + l2_norm*n[0][0] + l6_mac*n[4][0] + l6_other\n",
    "\n",
    "            if n[1][1][1] == 1:\n",
    "                lut += lc2_path1*n[1][1][2]*n[1][1][3] + lc2_path2*n[1][1][4]\n",
    "            else:\n",
    "                lut += n[1][1][3] * (lc1_pe*n[1][1][2] + lc1_proc)\n",
    "\n",
    "            if n[2][1][1] == 1:\n",
    "                lut += lc2_path1*n[2][1][2]*n[2][1][3] + lc2_path2*n[2][1][4]\n",
    "            else:\n",
    "                lut += n[2][1][3] * (lc1_pe*n[2][1][2] + lc1_proc)\n",
    "                \n",
    "            if n[3][1][1] == 1:\n",
    "                lut += lc2_path1*n[3][1][2]*n[3][1][3] + lc2_path2*n[3][1][4]\n",
    "            else:\n",
    "                lut += n[3][1][3] * (lc1_pe*n[3][1][2] + lc1_proc)\n",
    "                \n",
    "            all_dsp.append(p)\n",
    "            all_lut.append(lut)"
   ]
  },
  {
   "cell_type": "markdown",
   "metadata": {},
   "source": [
    "## Choose the design with min Complexity Score in each subset"
   ]
  },
  {
   "cell_type": "code",
   "execution_count": 155,
   "metadata": {},
   "outputs": [
    {
     "name": "stdout",
     "output_type": "stream",
     "text": [
      "Potential design intervals:\n"
     ]
    },
    {
     "data": {
      "text/plain": [
       "dict_keys([5312, 5568, 5751, 6080, 6144])"
      ]
     },
     "execution_count": 155,
     "metadata": {},
     "output_type": "execute_result"
    }
   ],
   "source": [
    "i = 0\n",
    "min_dsp = min(all_dsp)\n",
    "max_dsp = max(all_dsp)\n",
    "min_lut = min(all_lut)\n",
    "max_lut = max(all_lut)\n",
    "for e in dsp_factor:\n",
    "    for p in dsp_factor[e]:\n",
    "        for n in dsp_factor[e][p]:\n",
    "            n.append(((all_lut[i]-min_lut)/(max_lut-min_lut))+((all_dsp[i]-min_dsp)/(max_dsp-min_dsp)))\n",
    "            i = i+1\n",
    "\n",
    "print(\"Potential design intervals:\")\n",
    "dsp_factor.keys()"
   ]
  },
  {
   "cell_type": "code",
   "execution_count": 156,
   "metadata": {},
   "outputs": [
    {
     "name": "stdout",
     "output_type": "stream",
     "text": [
      "Stage 1 Latency: 4160.0 ; DSP comsumption: 6\n"
     ]
    },
    {
     "data": {
      "text/plain": [
       "{5312: (930,\n",
       "  [(4, (5190, 2)),\n",
       "   (184, (4336, 'arch1', 10, 1)),\n",
       "   (176, (5312, 'arch2', 8, 1, 8)),\n",
       "   (292, (4992, 'arch2', 16, 1, 1)),\n",
       "   (268, (4727, 128)),\n",
       "   1.238455346551432]),\n",
       " 5568: (914,\n",
       "  [(4, (5190, 2)),\n",
       "   (184, (4336, 'arch1', 10, 1)),\n",
       "   (160, (5568, 'arch2', 8, 1, 4)),\n",
       "   (292, (4992, 'arch2', 16, 1, 1)),\n",
       "   (268, (4727, 128)),\n",
       "   1.1908362989323844]),\n",
       " 5751: (786,\n",
       "  [(4, (5190, 2)),\n",
       "   (184, (4336, 'arch1', 10, 1)),\n",
       "   (160, (5568, 'arch2', 8, 1, 4)),\n",
       "   (292, (4992, 'arch2', 16, 1, 1)),\n",
       "   (140, (5751, 64)),\n",
       "   0.4682469073038468]),\n",
       " 6080: (778,\n",
       "  [(4, (5190, 2)),\n",
       "   (184, (4336, 'arch1', 10, 1)),\n",
       "   (152, (6080, 'arch2', 8, 1, 2)),\n",
       "   (292, (4992, 'arch2', 16, 1, 1)),\n",
       "   (140, (5751, 64)),\n",
       "   0.444437383494323]),\n",
       " 6144: (662,\n",
       "  [(4, (5190, 2)),\n",
       "   (184, (4336, 'arch1', 10, 1)),\n",
       "   (152, (6080, 'arch2', 8, 1, 2)),\n",
       "   (176, (6144, 'arch1', 1, 8)),\n",
       "   (140, (5751, 64)),\n",
       "   0.0])}"
      ]
     },
     "execution_count": 156,
     "metadata": {},
     "output_type": "execute_result"
    }
   ],
   "source": [
    "final_dsp_lut_factor = {}\n",
    "for e in dsp_factor:\n",
    "    score = []\n",
    "    for p in dsp_factor[e]:\n",
    "        for n in dsp_factor[e][p]:\n",
    "            score.append(n[5])\n",
    "    for p in dsp_factor[e]:\n",
    "        for n in dsp_factor[e][p]:\n",
    "            if n[5] == min(score):\n",
    "                final_dsp_lut_factor[e] = p, n\n",
    "\n",
    "print(\"Stage 1 Latency:\", latency1, \"; DSP comsumption:\", d1_load)\n",
    "final_dsp_lut_factor\n",
    "# Design interval: 5312: (Total DSP consumption: 930,\n",
    "#   [Stage 2: (DSP consumption: 4, (latency: 5190, N: 2)),\n",
    "#    Stage 3: (DSP consumption: 184, (latency: 4336, 'arch1', Nin: 10, Ns: 1)),\n",
    "#    Stage 4: (DSP consumption: 176, (latency: 5312, 'arch2', Nin: 8, N1s: 1, N2s: 8)),\n",
    "#    Stage 5: (DSP consumption: 292, (latency: 4992, 'arch2', Nin: 16, N1s: 1, N2s:1)),\n",
    "#    Stage 6: (DSP consumption: 268, (latency: 4727, N: 128)),\n",
    "#    Complexity Score: 0.8991673172001041])"
   ]
  }
 ],
 "metadata": {
  "kernelspec": {
   "display_name": "Python 3",
   "language": "python",
   "name": "python3"
  },
  "language_info": {
   "codemirror_mode": {
    "name": "ipython",
    "version": 3
   },
   "file_extension": ".py",
   "mimetype": "text/x-python",
   "name": "python",
   "nbconvert_exporter": "python",
   "pygments_lexer": "ipython3",
   "version": "3.11.5"
  }
 },
 "nbformat": 4,
 "nbformat_minor": 2
}
